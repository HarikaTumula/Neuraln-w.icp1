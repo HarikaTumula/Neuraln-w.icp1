{
  "nbformat": 4,
  "nbformat_minor": 0,
  "metadata": {
    "colab": {
      "provenance": [],
      "authorship_tag": "ABX9TyOcIWAYo9lpUN4KaAVByJou",
      "include_colab_link": true
    },
    "kernelspec": {
      "name": "python3",
      "display_name": "Python 3"
    },
    "language_info": {
      "name": "python"
    }
  },
  "cells": [
    {
      "cell_type": "markdown",
      "metadata": {
        "id": "view-in-github",
        "colab_type": "text"
      },
      "source": [
        "<a href=\"https://colab.research.google.com/github/HarikaTumula/Neuraln-w.icp1/blob/main/que3.ipynb\" target=\"_parent\"><img src=\"https://colab.research.google.com/assets/colab-badge.svg\" alt=\"Open In Colab\"/></a>"
      ]
    },
    {
      "cell_type": "code",
      "execution_count": 8,
      "metadata": {
        "colab": {
          "base_uri": "https://localhost:8080/"
        },
        "id": "P_y1LQa_02m_",
        "outputId": "3d439e11-b7e1-4fee-8307-b1ddf1e84fb1"
      },
      "outputs": [
        {
          "output_type": "stream",
          "name": "stdout",
          "text": [
            "Enter average total score of student: \n",
            "99\n",
            "Your Grade is A\n"
          ]
        }
      ],
      "source": [
        "print(\"Enter average total score of student: \")\n",
        "total = int(input())\n",
        "\n",
        "if total>=90 and total<=100:\n",
        "    print(\"Your Grade is A\")\n",
        "elif total>=80 and total<89:\n",
        "    print(\"Your Grade is B\")\n",
        "elif total>=70 and total<79:\n",
        "    print(\"Your Grade is C\")\n",
        "elif total>=60 and total<69:\n",
        "    print(\"Your Grade is D\")\n",
        "elif total>=0 and total<60:\n",
        "    print(\"Your Grade is F\")\n",
        "else:\n",
        "    print(\"Invalid Input!\")"
      ]
    }
  ]
}